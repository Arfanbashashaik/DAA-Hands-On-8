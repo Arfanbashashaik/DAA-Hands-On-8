{
  "nbformat": 4,
  "nbformat_minor": 0,
  "metadata": {
    "colab": {
      "private_outputs": true,
      "provenance": [],
      "cell_execution_strategy": "setup",
      "authorship_tag": "ABX9TyNxGVeEDUl7TeeThAnqUqPe",
      "include_colab_link": true
    },
    "kernelspec": {
      "name": "python3",
      "display_name": "Python 3"
    },
    "language_info": {
      "name": "python"
    }
  },
  "cells": [
    {
      "cell_type": "markdown",
      "metadata": {
        "id": "view-in-github",
        "colab_type": "text"
      },
      "source": [
        "<a href=\"https://colab.research.google.com/github/Arfanbashashaik/DAA-Hands-On-8/blob/main/question_1.ipynb\" target=\"_parent\"><img src=\"https://colab.research.google.com/assets/colab-badge.svg\" alt=\"Open In Colab\"/></a>"
      ]
    },
    {
      "cell_type": "markdown",
      "source": [
        "1. Leverage your implementation of quicksort to implement the ith order statistic. Demonstrate it's working via an example.\n"
      ],
      "metadata": {
        "id": "vutE_iCd6dKc"
      }
    },
    {
      "cell_type": "code",
      "execution_count": null,
      "metadata": {
        "id": "_b3GzPPiy8ll"
      },
      "outputs": [],
      "source": [
        "def split_array(arr, start, end):\n",
        "    pivot_pos= arr[end]\n",
        "    min_idx =start - 1\n",
        "    for present_idx in range(start, end):\n",
        "        if arr[present_idx]<= pivot_pos:\n",
        "            min_idx +=1\n",
        "            arr[min_idx],arr[present_idx] =arr[present_idx],arr[min_idx]\n",
        "    arr[min_idx + 1], arr[end] = arr[end], arr[min_idx + 1]\n",
        "    return min_idx + 1\n",
        "def quick_sort(arr,start,end):\n",
        "    if start<end:\n",
        "        pivot_pos=split_array(arr, start, end)\n",
        "        quick_sort(arr,start, pivot_pos- 1)\n",
        "        quick_sort(arr,pivot_pos+1, end)\n",
        "def find_ith_smallest(arr,goal_idx):\n",
        "    if goal_idx<1 or goal_idx >len(arr):\n",
        "        return None\n",
        "    left,right=0,len(arr) - 1\n",
        "    goal_idx-=1\n",
        "    while left<=right:\n",
        "        pivot_pos=split_array(arr, left, right)\n",
        "        if pivot_pos==goal_idx:\n",
        "            return arr[pivot_pos]\n",
        "        elif pivot_pos>goal_idx:\n",
        "            right=pivot_pos- 1\n",
        "        else:\n",
        "            left=pivot_pos + 1\n",
        "array = [25,15,10,5,7,6,20,30,40,34]\n",
        "idx =4\n",
        "quick_sort(array, 0, len(array) - 1)\n",
        "print(\"Sorted array:\", array)\n",
        "ith_smallest = find_ith_smallest(array, idx)\n",
        "print(f\"The {idx}th order statistic is: {ith_smallest}\")\n"
      ]
    }
  ]
}