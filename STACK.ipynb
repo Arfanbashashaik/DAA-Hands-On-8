{
  "nbformat": 4,
  "nbformat_minor": 0,
  "metadata": {
    "colab": {
      "private_outputs": true,
      "provenance": [],
      "authorship_tag": "ABX9TyOgsayYbUyuM262i72TuLsX",
      "include_colab_link": true
    },
    "kernelspec": {
      "name": "python3",
      "display_name": "Python 3"
    },
    "language_info": {
      "name": "python"
    }
  },
  "cells": [
    {
      "cell_type": "markdown",
      "metadata": {
        "id": "view-in-github",
        "colab_type": "text"
      },
      "source": [
        "<a href=\"https://colab.research.google.com/github/Arfanbashashaik/DAA-Hands-On-8/blob/main/STACK.ipynb\" target=\"_parent\"><img src=\"https://colab.research.google.com/assets/colab-badge.svg\" alt=\"Open In Colab\"/></a>"
      ]
    },
    {
      "cell_type": "code",
      "execution_count": null,
      "metadata": {
        "id": "qoLoA50j_C8P"
      },
      "outputs": [],
      "source": [
        "class my_fixed_stack:\n",
        "    def __init__(self,limit):\n",
        "        self.limit=limit\n",
        "        self.stack =[0] *limit\n",
        "        self.present_size= 0\n",
        "    def is_empty(self):\n",
        "        return self.present_size== 0\n",
        "    def is_full(self):\n",
        "        return self.present_size==self.limit\n",
        "    def push(self,value):\n",
        "        if self.is_full():\n",
        "            print(\"Stack Overflow: Cannot add\",value)\n",
        "            return\n",
        "        self.stack[self.present_size]=value\n",
        "        self.present_size+=1\n",
        "    def pop(self):\n",
        "        if self.is_empty():\n",
        "            print(\"Stack Underflow: No elements to remove\")\n",
        "            return None\n",
        "        self.present_size-=1\n",
        "        return self.stack[self.present_size]\n",
        "    def peek(self):\n",
        "        if self.is_empty():\n",
        "            print(\"Stack is empty: No elements to peek\")\n",
        "            return None\n",
        "        return self.stack[self.present_size - 1]\n",
        "    def display(self):\n",
        "        if self.is_empty():\n",
        "            print(\"Stack is empty\")\n",
        "            return\n",
        "        for i in range(self.present_size):\n",
        "            print(self.stack[i], end=\" \")\n",
        "        print()\n",
        "\n",
        "if __name__== \"__main__\":\n",
        "    my_fixed_stack = my_fixed_stack(5)\n",
        "    my_fixed_stack.push(1)\n",
        "    my_fixed_stack.push(2)\n",
        "    my_fixed_stack.push(3)\n",
        "    my_fixed_stack.push(4)\n",
        "    my_fixed_stack.push(5)\n",
        "    my_fixed_stack.display()\n",
        "    print(\"Removed element:\",my_fixed_stack.pop())\n",
        "    print(\"Top element:\",my_fixed_stack.peek())\n",
        "    my_fixed_stack.display()"
      ]
    }
  ]
}