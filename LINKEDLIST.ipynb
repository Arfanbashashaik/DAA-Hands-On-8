{
  "nbformat": 4,
  "nbformat_minor": 0,
  "metadata": {
    "colab": {
      "private_outputs": true,
      "provenance": [],
      "authorship_tag": "ABX9TyOzHUimG/jYZd+AueyS0i50",
      "include_colab_link": true
    },
    "kernelspec": {
      "name": "python3",
      "display_name": "Python 3"
    },
    "language_info": {
      "name": "python"
    }
  },
  "cells": [
    {
      "cell_type": "markdown",
      "metadata": {
        "id": "view-in-github",
        "colab_type": "text"
      },
      "source": [
        "<a href=\"https://colab.research.google.com/github/Arfanbashashaik/DAA-Hands-On-8/blob/main/LINKEDLIST.ipynb\" target=\"_parent\"><img src=\"https://colab.research.google.com/assets/colab-badge.svg\" alt=\"Open In Colab\"/></a>"
      ]
    },
    {
      "cell_type": "code",
      "execution_count": null,
      "metadata": {
        "id": "MYaRF8bOWIFU"
      },
      "outputs": [],
      "source": [
        "class Node:\n",
        "    def __init__(self, data):\n",
        "        self.data= data\n",
        "        self.next =None\n",
        "class MyLinkedList:\n",
        "    def __init__(self):\n",
        "        self.head=None\n",
        "    def is_empty(self):\n",
        "        return self.head is None\n",
        "    def insert_front(self,value):\n",
        "        new_node=Node(value)\n",
        "        new_node.next=self.head\n",
        "        self.head =new_node\n",
        "    def delete_front(self):\n",
        "        if self.is_empty():\n",
        "            print(\"Cannot delete: The list is currently empty.\")\n",
        "            return None\n",
        "        data=self.head.data\n",
        "        self.head= self.head.next\n",
        "        return data\n",
        "    def display(self):\n",
        "        if self.is_empty():\n",
        "            print(\"List is empty\")\n",
        "            return\n",
        "        present =self.head\n",
        "        while present:\n",
        "            print(present.data, end=\" \")\n",
        "            present= present.next\n",
        "        print()\n",
        "if __name__ == \"__main__\":\n",
        "    my_linked_list = MyLinkedList()\n",
        "    my_linked_list.insert_front(1)\n",
        "    my_linked_list.insert_front(2)\n",
        "    my_linked_list.insert_front(3)\n",
        "    my_linked_list.insert_front(4)\n",
        "    my_linked_list.insert_front(5)\n",
        "    my_linked_list.display()\n",
        "    print(\"Deleted element:\", my_linked_list.delete_front())\n",
        "    my_linked_list.display()"
      ]
    }
  ]
}