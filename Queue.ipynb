{
  "nbformat": 4,
  "nbformat_minor": 0,
  "metadata": {
    "colab": {
      "private_outputs": true,
      "provenance": [],
      "authorship_tag": "ABX9TyPNP9D3Xq2+RRW0aQbO92pQ",
      "include_colab_link": true
    },
    "kernelspec": {
      "name": "python3",
      "display_name": "Python 3"
    },
    "language_info": {
      "name": "python"
    }
  },
  "cells": [
    {
      "cell_type": "markdown",
      "metadata": {
        "id": "view-in-github",
        "colab_type": "text"
      },
      "source": [
        "<a href=\"https://colab.research.google.com/github/Arfanbashashaik/DAA-Hands-On-8/blob/main/Queue.ipynb\" target=\"_parent\"><img src=\"https://colab.research.google.com/assets/colab-badge.svg\" alt=\"Open In Colab\"/></a>"
      ]
    },
    {
      "cell_type": "code",
      "execution_count": null,
      "metadata": {
        "id": "RpOqeK5hOhWi"
      },
      "outputs": [],
      "source": [
        "class MyFixedQueue:\n",
        "    def __init__(self,limit):\n",
        "        self.limit= limit\n",
        "        self.queue = [0] *limit\n",
        "        self.head=0\n",
        "        self.tail=-1\n",
        "        self.present_size =0\n",
        "    def is_empty(self):\n",
        "        return self.present_size==0\n",
        "    def is_full(self):\n",
        "        return self.present_size==self.limit\n",
        "    def enqueue(self,value):\n",
        "        if self.is_full():\n",
        "            print(\"Queue Overflow: Cannot add\",value)\n",
        "            return\n",
        "        self.tail=(self.tail+ 1)%self.limit\n",
        "        self.queue[self.tail] =value\n",
        "        self.present_size +=1\n",
        "    def dequeue(self):\n",
        "        if self.is_empty():\n",
        "            print(\"Queue Underflow:No elements to remove\")\n",
        "            return None\n",
        "        data=self.queue[self.head]\n",
        "        self.head=(self.head+1)%self.limit\n",
        "        self.present_size-=1\n",
        "        return data\n",
        "    def display(self):\n",
        "        if self.is_empty():\n",
        "            print(\"Queue is empty\")\n",
        "            return\n",
        "        i=self.head\n",
        "        while i != self.tail:\n",
        "            print(self.queue[i],end=\" \")\n",
        "            i=(i + 1)%self.limit\n",
        "        print(self.queue[self.tail])\n",
        "\n",
        "if __name__ == \"__main__\":\n",
        "    my_fixed_queue = MyFixedQueue(5)\n",
        "    my_fixed_queue.enqueue(1)\n",
        "    my_fixed_queue.enqueue(2)\n",
        "    my_fixed_queue.enqueue(3)\n",
        "    my_fixed_queue.enqueue(4)\n",
        "    my_fixed_queue.enqueue(5)\n",
        "    my_fixed_queue.display()\n",
        "    print(\"Dequeued element:\", my_fixed_queue.dequeue())\n",
        "    my_fixed_queue.display()\n"
      ]
    }
  ]
}